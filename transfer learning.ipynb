{
 "cells": [
  {
   "cell_type": "code",
   "execution_count": null,
   "id": "932b0eb0",
   "metadata": {},
   "outputs": [],
   "source": [
    "#To obtain specific data, please contact author's email address 1535591101@qq.com\n",
    "\n",
    "import matplotlib.pyplot as plt\n",
    "from math import sqrt\n",
    "from matplotlib import pyplot\n",
    "import pandas as pd\n",
    "import numpy as np\n",
    "from numpy import concatenate\n",
    "from sklearn.preprocessing import MinMaxScaler\n",
    "from sklearn.metrics import mean_absolute_error, mean_squared_error, r2_score\n",
    "from keras.models import Sequential\n",
    "from tensorflow.keras.layers import Dropout, Dense, LSTM, Activation,GRU\n",
    "from keras import layers\n",
    "from keras.optimizers import Adam\n",
    "import numpy as np\n",
    "\n",
    "model = Sequential()\n",
    "model.add(GRU(5,return_sequences=True))\n",
    "model.add(GRU(5))\n",
    "model.add(Dense(1))\n",
    "model.compile(loss='mean_squared_error', optimizer='adam') \n",
    "\n",
    "history = model.fit(x_train_source, y_train_source,bachsize=32)              \n",
    "model.summary()\n",
    "\n",
    "for layer in model.layers:    \n",
    "    print(layer.trainable)\n",
    "for layer in model.layers [:-2]:\n",
    "    print(layer.name)\n",
    "    layer.trainable = False\n",
    "for layer in model.layers:    \n",
    "    print(layer.trainable)\n",
    "    \n",
    "from keras.models import Model\n",
    "from keras.models import Sequential\n",
    "model2 = Sequential()\n",
    "for layer in model.layers[:-2]:  \n",
    "    model2.add(layer)\n",
    "from keras.layers import Dense \n",
    "model2.add(GRU(10))\n",
    "model2.add(Dense(1))\n",
    "model2.compile(loss='mean_squared_error', optimizer='adam') \n",
    "\n",
    "history = model2.fit(x_train_target, y_train_target,bachsize=32) \n",
    "model.summary()"
   ]
  }
 ],
 "metadata": {
  "kernelspec": {
   "display_name": "Python 3",
   "language": "python",
   "name": "python3"
  },
  "language_info": {
   "codemirror_mode": {
    "name": "ipython",
    "version": 3
   },
   "file_extension": ".py",
   "mimetype": "text/x-python",
   "name": "python",
   "nbconvert_exporter": "python",
   "pygments_lexer": "ipython3",
   "version": "3.8.8"
  }
 },
 "nbformat": 4,
 "nbformat_minor": 5
}
